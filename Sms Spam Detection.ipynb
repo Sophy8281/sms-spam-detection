{
 "cells": [
  {
   "cell_type": "markdown",
   "id": "cd9efb93-97e9-4729-9498-81715f7a8983",
   "metadata": {},
   "source": [
    "# Section I Data Exploration"
   ]
  },
  {
   "cell_type": "markdown",
   "id": "f0ba5f1b-2af7-4828-9fab-ef2db02a5dfa",
   "metadata": {},
   "source": [
    "## Importing necessary modules"
   ]
  },
  {
   "cell_type": "code",
   "execution_count": 4,
   "id": "dcea4668-9e03-410d-b911-082eafaf5e04",
   "metadata": {},
   "outputs": [],
   "source": [
    "# Importing necessary libraries for this task.\n",
    "import pandas as pd\n",
    "import numpy as np\n",
    "import string\n",
    "import seaborn as sns\n",
    "import re\n",
    "\n",
    "import nltk\n",
    "from nltk.corpus import stopwords\n",
    "from nltk.stem.porter import PorterStemmer\n",
    "\n",
    "from sklearn.feature_extraction.text import CountVectorizer \n",
    "from sklearn.preprocessing import LabelEncoder\n",
    "from sklearn.model_selection import train_test_split\n",
    "from sklearn.naive_bayes import GaussianNB\n",
    "from sklearn.tree import DecisionTreeClassifier\n",
    "from sklearn.metrics import confusion_matrix\n",
    "from sklearn.metrics import accuracy_score\n",
    "from sklearn.metrics import classification_report\n",
    "from sklearn.metrics import f1_score\n",
    "\n",
    "from imblearn.under_sampling import RandomUnderSampler\n",
    "from imblearn.over_sampling import RandomOverSampler"
   ]
  },
  {
   "cell_type": "markdown",
   "id": "10bb3b62-af92-4acf-bec4-f22ef7fce891",
   "metadata": {},
   "source": [
    "## Loading the dataset"
   ]
  },
  {
   "cell_type": "code",
   "execution_count": 6,
   "id": "36ee3fef-717d-4885-9885-973460d4c1fb",
   "metadata": {},
   "outputs": [
    {
     "data": {
      "text/html": [
       "<div>\n",
       "<style scoped>\n",
       "    .dataframe tbody tr th:only-of-type {\n",
       "        vertical-align: middle;\n",
       "    }\n",
       "\n",
       "    .dataframe tbody tr th {\n",
       "        vertical-align: top;\n",
       "    }\n",
       "\n",
       "    .dataframe thead th {\n",
       "        text-align: right;\n",
       "    }\n",
       "</style>\n",
       "<table border=\"1\" class=\"dataframe\">\n",
       "  <thead>\n",
       "    <tr style=\"text-align: right;\">\n",
       "      <th></th>\n",
       "      <th>class</th>\n",
       "      <th>sms</th>\n",
       "    </tr>\n",
       "  </thead>\n",
       "  <tbody>\n",
       "    <tr>\n",
       "      <th>0</th>\n",
       "      <td>ham</td>\n",
       "      <td>Go until jurong point, crazy.. Available only ...</td>\n",
       "    </tr>\n",
       "    <tr>\n",
       "      <th>1</th>\n",
       "      <td>ham</td>\n",
       "      <td>Ok lar... Joking wif u oni...</td>\n",
       "    </tr>\n",
       "    <tr>\n",
       "      <th>2</th>\n",
       "      <td>spam</td>\n",
       "      <td>Free entry in 2 a wkly comp to win FA Cup fina...</td>\n",
       "    </tr>\n",
       "    <tr>\n",
       "      <th>3</th>\n",
       "      <td>ham</td>\n",
       "      <td>U dun say so early hor... U c already then say...</td>\n",
       "    </tr>\n",
       "    <tr>\n",
       "      <th>4</th>\n",
       "      <td>ham</td>\n",
       "      <td>Nah I don't think he goes to usf, he lives aro...</td>\n",
       "    </tr>\n",
       "  </tbody>\n",
       "</table>\n",
       "</div>"
      ],
      "text/plain": [
       "  class                                                sms\n",
       "0   ham  Go until jurong point, crazy.. Available only ...\n",
       "1   ham                      Ok lar... Joking wif u oni...\n",
       "2  spam  Free entry in 2 a wkly comp to win FA Cup fina...\n",
       "3   ham  U dun say so early hor... U c already then say...\n",
       "4   ham  Nah I don't think he goes to usf, he lives aro..."
      ]
     },
     "execution_count": 6,
     "metadata": {},
     "output_type": "execute_result"
    }
   ],
   "source": [
    "df = pd.read_csv('E:\\\\4.2\\\\442\\\\Spam Data Task\\\\Jupyter\\\\spam.csv', encoding='latin-1')\n",
    "df = df.drop(['Unnamed: 2','Unnamed: 3','Unnamed: 4'],axis=1)\n",
    "df.head()"
   ]
  },
  {
   "cell_type": "markdown",
   "id": "6e0ec77b-1fe0-4411-99f9-cb7708a5921d",
   "metadata": {},
   "source": [
    "## General idea about the dataset"
   ]
  },
  {
   "cell_type": "code",
   "execution_count": 7,
   "id": "3154198a-f810-4eb3-a12a-28efa66e113f",
   "metadata": {},
   "outputs": [
    {
     "data": {
      "text/html": [
       "<div>\n",
       "<style scoped>\n",
       "    .dataframe tbody tr th:only-of-type {\n",
       "        vertical-align: middle;\n",
       "    }\n",
       "\n",
       "    .dataframe tbody tr th {\n",
       "        vertical-align: top;\n",
       "    }\n",
       "\n",
       "    .dataframe thead tr th {\n",
       "        text-align: left;\n",
       "    }\n",
       "\n",
       "    .dataframe thead tr:last-of-type th {\n",
       "        text-align: right;\n",
       "    }\n",
       "</style>\n",
       "<table border=\"1\" class=\"dataframe\">\n",
       "  <thead>\n",
       "    <tr>\n",
       "      <th></th>\n",
       "      <th colspan=\"4\" halign=\"left\">sms</th>\n",
       "    </tr>\n",
       "    <tr>\n",
       "      <th></th>\n",
       "      <th>count</th>\n",
       "      <th>unique</th>\n",
       "      <th>top</th>\n",
       "      <th>freq</th>\n",
       "    </tr>\n",
       "    <tr>\n",
       "      <th>class</th>\n",
       "      <th></th>\n",
       "      <th></th>\n",
       "      <th></th>\n",
       "      <th></th>\n",
       "    </tr>\n",
       "  </thead>\n",
       "  <tbody>\n",
       "    <tr>\n",
       "      <th>ham</th>\n",
       "      <td>4825</td>\n",
       "      <td>4516</td>\n",
       "      <td>Sorry, I'll call later</td>\n",
       "      <td>30</td>\n",
       "    </tr>\n",
       "    <tr>\n",
       "      <th>spam</th>\n",
       "      <td>747</td>\n",
       "      <td>653</td>\n",
       "      <td>Please call our customer service representativ...</td>\n",
       "      <td>4</td>\n",
       "    </tr>\n",
       "  </tbody>\n",
       "</table>\n",
       "</div>"
      ],
      "text/plain": [
       "        sms                                                               \n",
       "      count unique                                                top freq\n",
       "class                                                                     \n",
       "ham    4825   4516                             Sorry, I'll call later   30\n",
       "spam    747    653  Please call our customer service representativ...    4"
      ]
     },
     "execution_count": 7,
     "metadata": {},
     "output_type": "execute_result"
    }
   ],
   "source": [
    "df.groupby('class').describe()"
   ]
  },
  {
   "cell_type": "markdown",
   "id": "bc9f808c-e62b-4b66-ac7a-aff5aae697e9",
   "metadata": {},
   "source": [
    "The above shows spam vs ham messages we in the dataset. We have 747 spam messages and 4825 ham messages.\n",
    "653 of these spam messages and 4516 of these ham messages are unique."
   ]
  },
  {
   "cell_type": "markdown",
   "id": "a6b64d03-84c9-4b7b-ab49-d2e70fc8f6d7",
   "metadata": {},
   "source": [
    "## More information about columns "
   ]
  },
  {
   "cell_type": "code",
   "execution_count": 8,
   "id": "465d3f07-d2b0-4f7b-a0d7-4b139121fb1f",
   "metadata": {},
   "outputs": [
    {
     "name": "stdout",
     "output_type": "stream",
     "text": [
      "<class 'pandas.core.frame.DataFrame'>\n",
      "RangeIndex: 5572 entries, 0 to 5571\n",
      "Data columns (total 2 columns):\n",
      " #   Column  Non-Null Count  Dtype \n",
      "---  ------  --------------  ----- \n",
      " 0   class   5572 non-null   object\n",
      " 1   sms     5572 non-null   object\n",
      "dtypes: object(2)\n",
      "memory usage: 87.2+ KB\n"
     ]
    }
   ],
   "source": [
    "df.info()"
   ]
  },
  {
   "cell_type": "code",
   "execution_count": 9,
   "id": "9060ccf4-8e13-4628-b7d5-a7a73442a41b",
   "metadata": {},
   "outputs": [
    {
     "data": {
      "text/html": [
       "<div>\n",
       "<style scoped>\n",
       "    .dataframe tbody tr th:only-of-type {\n",
       "        vertical-align: middle;\n",
       "    }\n",
       "\n",
       "    .dataframe tbody tr th {\n",
       "        vertical-align: top;\n",
       "    }\n",
       "\n",
       "    .dataframe thead th {\n",
       "        text-align: right;\n",
       "    }\n",
       "</style>\n",
       "<table border=\"1\" class=\"dataframe\">\n",
       "  <thead>\n",
       "    <tr style=\"text-align: right;\">\n",
       "      <th></th>\n",
       "      <th>class</th>\n",
       "      <th>sms</th>\n",
       "    </tr>\n",
       "  </thead>\n",
       "  <tbody>\n",
       "    <tr>\n",
       "      <th>count</th>\n",
       "      <td>5572</td>\n",
       "      <td>5572</td>\n",
       "    </tr>\n",
       "    <tr>\n",
       "      <th>unique</th>\n",
       "      <td>2</td>\n",
       "      <td>5169</td>\n",
       "    </tr>\n",
       "    <tr>\n",
       "      <th>top</th>\n",
       "      <td>ham</td>\n",
       "      <td>Sorry, I'll call later</td>\n",
       "    </tr>\n",
       "    <tr>\n",
       "      <th>freq</th>\n",
       "      <td>4825</td>\n",
       "      <td>30</td>\n",
       "    </tr>\n",
       "  </tbody>\n",
       "</table>\n",
       "</div>"
      ],
      "text/plain": [
       "       class                     sms\n",
       "count   5572                    5572\n",
       "unique     2                    5169\n",
       "top      ham  Sorry, I'll call later\n",
       "freq    4825                      30"
      ]
     },
     "execution_count": 9,
     "metadata": {},
     "output_type": "execute_result"
    }
   ],
   "source": [
    "df.describe()"
   ]
  },
  {
   "cell_type": "code",
   "execution_count": 10,
   "id": "5c0aa374-d179-4c9f-a126-97e9fbb2bca9",
   "metadata": {},
   "outputs": [
    {
     "data": {
      "text/plain": [
       "(5572, 2)"
      ]
     },
     "execution_count": 10,
     "metadata": {},
     "output_type": "execute_result"
    }
   ],
   "source": [
    "# Previewing data shape.\n",
    "df.shape"
   ]
  },
  {
   "cell_type": "markdown",
   "id": "366cbed3-bd69-417d-b99d-461073a3a374",
   "metadata": {},
   "source": [
    "## Previewing ham data head."
   ]
  },
  {
   "cell_type": "code",
   "execution_count": 11,
   "id": "2a003f1d-8943-4bd4-a2d0-80fb2e144e44",
   "metadata": {},
   "outputs": [
    {
     "data": {
      "text/html": [
       "<div>\n",
       "<style scoped>\n",
       "    .dataframe tbody tr th:only-of-type {\n",
       "        vertical-align: middle;\n",
       "    }\n",
       "\n",
       "    .dataframe tbody tr th {\n",
       "        vertical-align: top;\n",
       "    }\n",
       "\n",
       "    .dataframe thead th {\n",
       "        text-align: right;\n",
       "    }\n",
       "</style>\n",
       "<table border=\"1\" class=\"dataframe\">\n",
       "  <thead>\n",
       "    <tr style=\"text-align: right;\">\n",
       "      <th></th>\n",
       "      <th>class</th>\n",
       "      <th>sms</th>\n",
       "    </tr>\n",
       "  </thead>\n",
       "  <tbody>\n",
       "    <tr>\n",
       "      <th>0</th>\n",
       "      <td>ham</td>\n",
       "      <td>Go until jurong point, crazy.. Available only ...</td>\n",
       "    </tr>\n",
       "    <tr>\n",
       "      <th>1</th>\n",
       "      <td>ham</td>\n",
       "      <td>Ok lar... Joking wif u oni...</td>\n",
       "    </tr>\n",
       "    <tr>\n",
       "      <th>3</th>\n",
       "      <td>ham</td>\n",
       "      <td>U dun say so early hor... U c already then say...</td>\n",
       "    </tr>\n",
       "    <tr>\n",
       "      <th>4</th>\n",
       "      <td>ham</td>\n",
       "      <td>Nah I don't think he goes to usf, he lives aro...</td>\n",
       "    </tr>\n",
       "    <tr>\n",
       "      <th>6</th>\n",
       "      <td>ham</td>\n",
       "      <td>Even my brother is not like to speak with me. ...</td>\n",
       "    </tr>\n",
       "  </tbody>\n",
       "</table>\n",
       "</div>"
      ],
      "text/plain": [
       "  class                                                sms\n",
       "0   ham  Go until jurong point, crazy.. Available only ...\n",
       "1   ham                      Ok lar... Joking wif u oni...\n",
       "3   ham  U dun say so early hor... U c already then say...\n",
       "4   ham  Nah I don't think he goes to usf, he lives aro...\n",
       "6   ham  Even my brother is not like to speak with me. ..."
      ]
     },
     "execution_count": 11,
     "metadata": {},
     "output_type": "execute_result"
    }
   ],
   "source": [
    "ham = df[df['class']=='ham']\n",
    "ham.head()"
   ]
  },
  {
   "cell_type": "markdown",
   "id": "75a3eae3-dd8b-4763-9fc5-b4aba92d9e8e",
   "metadata": {},
   "source": [
    "## Previewing spam data head"
   ]
  },
  {
   "cell_type": "code",
   "execution_count": 12,
   "id": "82c973be-0a64-43fd-9909-c4207b0d25b6",
   "metadata": {},
   "outputs": [
    {
     "data": {
      "text/html": [
       "<div>\n",
       "<style scoped>\n",
       "    .dataframe tbody tr th:only-of-type {\n",
       "        vertical-align: middle;\n",
       "    }\n",
       "\n",
       "    .dataframe tbody tr th {\n",
       "        vertical-align: top;\n",
       "    }\n",
       "\n",
       "    .dataframe thead th {\n",
       "        text-align: right;\n",
       "    }\n",
       "</style>\n",
       "<table border=\"1\" class=\"dataframe\">\n",
       "  <thead>\n",
       "    <tr style=\"text-align: right;\">\n",
       "      <th></th>\n",
       "      <th>class</th>\n",
       "      <th>sms</th>\n",
       "    </tr>\n",
       "  </thead>\n",
       "  <tbody>\n",
       "    <tr>\n",
       "      <th>2</th>\n",
       "      <td>spam</td>\n",
       "      <td>Free entry in 2 a wkly comp to win FA Cup fina...</td>\n",
       "    </tr>\n",
       "    <tr>\n",
       "      <th>5</th>\n",
       "      <td>spam</td>\n",
       "      <td>FreeMsg Hey there darling it's been 3 week's n...</td>\n",
       "    </tr>\n",
       "    <tr>\n",
       "      <th>8</th>\n",
       "      <td>spam</td>\n",
       "      <td>WINNER!! As a valued network customer you have...</td>\n",
       "    </tr>\n",
       "    <tr>\n",
       "      <th>9</th>\n",
       "      <td>spam</td>\n",
       "      <td>Had your mobile 11 months or more? U R entitle...</td>\n",
       "    </tr>\n",
       "    <tr>\n",
       "      <th>11</th>\n",
       "      <td>spam</td>\n",
       "      <td>SIX chances to win CASH! From 100 to 20,000 po...</td>\n",
       "    </tr>\n",
       "  </tbody>\n",
       "</table>\n",
       "</div>"
      ],
      "text/plain": [
       "   class                                                sms\n",
       "2   spam  Free entry in 2 a wkly comp to win FA Cup fina...\n",
       "5   spam  FreeMsg Hey there darling it's been 3 week's n...\n",
       "8   spam  WINNER!! As a valued network customer you have...\n",
       "9   spam  Had your mobile 11 months or more? U R entitle...\n",
       "11  spam  SIX chances to win CASH! From 100 to 20,000 po..."
      ]
     },
     "execution_count": 12,
     "metadata": {},
     "output_type": "execute_result"
    }
   ],
   "source": [
    "spam = df[df['class']=='spam']\n",
    "spam.head()"
   ]
  },
  {
   "cell_type": "code",
   "execution_count": 13,
   "id": "9e030bf6-d918-43ed-b13c-586263cf56e0",
   "metadata": {},
   "outputs": [
    {
     "data": {
      "text/plain": [
       "((4825, 2), (747, 2))"
      ]
     },
     "execution_count": 13,
     "metadata": {},
     "output_type": "execute_result"
    }
   ],
   "source": [
    "# Previewing ham and spam shape.\n",
    "ham.shape, spam.shape"
   ]
  },
  {
   "cell_type": "markdown",
   "id": "4d5328d2-ecff-467f-ba75-395f6c58bbe3",
   "metadata": {},
   "source": [
    "# Step 2:"
   ]
  },
  {
   "cell_type": "markdown",
   "id": "721dce76-b566-4283-b87f-d9e006586007",
   "metadata": {},
   "source": [
    "## Extracting features from the data"
   ]
  },
  {
   "cell_type": "code",
   "execution_count": 14,
   "id": "4d729eec-9743-4930-b1c7-995147ad42e1",
   "metadata": {},
   "outputs": [
    {
     "data": {
      "text/html": [
       "<div>\n",
       "<style scoped>\n",
       "    .dataframe tbody tr th:only-of-type {\n",
       "        vertical-align: middle;\n",
       "    }\n",
       "\n",
       "    .dataframe tbody tr th {\n",
       "        vertical-align: top;\n",
       "    }\n",
       "\n",
       "    .dataframe thead th {\n",
       "        text-align: right;\n",
       "    }\n",
       "</style>\n",
       "<table border=\"1\" class=\"dataframe\">\n",
       "  <thead>\n",
       "    <tr style=\"text-align: right;\">\n",
       "      <th></th>\n",
       "      <th>class</th>\n",
       "      <th>sms</th>\n",
       "      <th>Length</th>\n",
       "    </tr>\n",
       "  </thead>\n",
       "  <tbody>\n",
       "    <tr>\n",
       "      <th>0</th>\n",
       "      <td>ham</td>\n",
       "      <td>Go until jurong point, crazy.. Available only ...</td>\n",
       "      <td>111</td>\n",
       "    </tr>\n",
       "    <tr>\n",
       "      <th>1</th>\n",
       "      <td>ham</td>\n",
       "      <td>Ok lar... Joking wif u oni...</td>\n",
       "      <td>29</td>\n",
       "    </tr>\n",
       "    <tr>\n",
       "      <th>2</th>\n",
       "      <td>spam</td>\n",
       "      <td>Free entry in 2 a wkly comp to win FA Cup fina...</td>\n",
       "      <td>155</td>\n",
       "    </tr>\n",
       "    <tr>\n",
       "      <th>3</th>\n",
       "      <td>ham</td>\n",
       "      <td>U dun say so early hor... U c already then say...</td>\n",
       "      <td>49</td>\n",
       "    </tr>\n",
       "    <tr>\n",
       "      <th>4</th>\n",
       "      <td>ham</td>\n",
       "      <td>Nah I don't think he goes to usf, he lives aro...</td>\n",
       "      <td>61</td>\n",
       "    </tr>\n",
       "  </tbody>\n",
       "</table>\n",
       "</div>"
      ],
      "text/plain": [
       "  class                                                sms  Length\n",
       "0   ham  Go until jurong point, crazy.. Available only ...     111\n",
       "1   ham                      Ok lar... Joking wif u oni...      29\n",
       "2  spam  Free entry in 2 a wkly comp to win FA Cup fina...     155\n",
       "3   ham  U dun say so early hor... U c already then say...      49\n",
       "4   ham  Nah I don't think he goes to usf, he lives aro...      61"
      ]
     },
     "execution_count": 14,
     "metadata": {},
     "output_type": "execute_result"
    }
   ],
   "source": [
    "df[\"Length\"] = df[\"sms\"].apply(len)\n",
    "df.head()"
   ]
  },
  {
   "cell_type": "markdown",
   "id": "9ac9d1ab-92d0-42da-b759-e504343b150f",
   "metadata": {},
   "source": [
    "### Length of the longest message"
   ]
  },
  {
   "cell_type": "code",
   "execution_count": 15,
   "id": "304a10f4-6836-40b3-8db7-b88f1fbd1ed9",
   "metadata": {},
   "outputs": [
    {
     "data": {
      "text/plain": [
       "910"
      ]
     },
     "execution_count": 15,
     "metadata": {},
     "output_type": "execute_result"
    }
   ],
   "source": [
    "df[\"Length\"].max()"
   ]
  },
  {
   "cell_type": "markdown",
   "id": "0966af91-3516-4e5d-bd75-1681630f237a",
   "metadata": {},
   "source": [
    "### Longest message"
   ]
  },
  {
   "cell_type": "code",
   "execution_count": 16,
   "id": "5c6490d7-a158-4dd4-8fc4-df14b68a3e40",
   "metadata": {},
   "outputs": [
    {
     "data": {
      "text/plain": [
       "\"For me the love should start with attraction.i should feel that I need her every time around me.she should be the first thing which comes in my thoughts.I would start the day and end it with her.she should be there every time I dream.love will be then when my every breath has her name.my life should happen around her.my life will be named to her.I would cry for her.will give all my happiness and take all her sorrows.I will be ready to fight with anyone for her.I will be in love when I will be doing the craziest things for her.love will be when I don't have to proove anyone that my girl is the most beautiful lady on the whole planet.I will always be singing praises for her.love will be when I start up making chicken curry and end up makiing sambar.life will be the most beautiful then.will get every morning and thank god for the day because she is with me.I would like to say a lot..will tell later..\""
      ]
     },
     "execution_count": 16,
     "metadata": {},
     "output_type": "execute_result"
    }
   ],
   "source": [
    "df[df[\"Length\"]==910][\"sms\"].iloc[0]"
   ]
  },
  {
   "cell_type": "markdown",
   "id": "dd54d0b5-7e46-4a83-8e32-3f33d9cd737b",
   "metadata": {},
   "source": [
    "### Length of the shortest message"
   ]
  },
  {
   "cell_type": "code",
   "execution_count": 17,
   "id": "cf35ba55-fc97-4d66-a4ba-e35fa6f8b8d7",
   "metadata": {},
   "outputs": [
    {
     "data": {
      "text/plain": [
       "910"
      ]
     },
     "execution_count": 17,
     "metadata": {},
     "output_type": "execute_result"
    }
   ],
   "source": [
    "df[\"Length\"].max()"
   ]
  },
  {
   "cell_type": "markdown",
   "id": "6841ba8e-c573-4a81-b4a4-6c6027263739",
   "metadata": {},
   "source": [
    "### Shortest message"
   ]
  },
  {
   "cell_type": "code",
   "execution_count": 18,
   "id": "3bf9dc6b-220b-44a0-96f6-d0b4cb5b5d66",
   "metadata": {},
   "outputs": [
    {
     "data": {
      "text/plain": [
       "'Ok'"
      ]
     },
     "execution_count": 18,
     "metadata": {},
     "output_type": "execute_result"
    }
   ],
   "source": [
    "df[df[\"Length\"]==2][\"sms\"].iloc[0]"
   ]
  },
  {
   "cell_type": "markdown",
   "id": "305f2efa-8c9f-4735-9372-a003ab5619b0",
   "metadata": {},
   "source": [
    "## Visualization"
   ]
  },
  {
   "cell_type": "markdown",
   "id": "7f6f476b-ba08-4b09-9ed7-320ab4a30cc9",
   "metadata": {},
   "source": [
    "### Displot - distribution of length of messages"
   ]
  },
  {
   "cell_type": "code",
   "execution_count": 19,
   "id": "f3232ed8-1274-4b7b-b5c5-4e05d0d24bef",
   "metadata": {},
   "outputs": [
    {
     "data": {
      "text/plain": [
       "<seaborn.axisgrid.FacetGrid at 0x21e1c0d1880>"
      ]
     },
     "execution_count": 19,
     "metadata": {},
     "output_type": "execute_result"
    },
    {
     "data": {
      "image/png": "[encoded data removed]",
      "text/plain": [
       "<Figure size 360x360 with 1 Axes>"
      ]
     },
     "metadata": {
      "needs_background": "light"
     },
     "output_type": "display_data"
    }
   ],
   "source": [
    "sns.displot(df[\"Length\"], bins=30)"
   ]
  },
  {
   "cell_type": "markdown",
   "id": "a5952ab7-1d1d-4c92-bf1d-d352f16aba00",
   "metadata": {},
   "source": [
    "### Barplot - distribution of length of messages by class"
   ]
  },
  {
   "cell_type": "code",
   "execution_count": 20,
   "id": "18aa1cfa-d9d4-4832-ada4-44fd0bf591f1",
   "metadata": {},
   "outputs": [
    {
     "data": {
      "text/plain": [
       "<AxesSubplot:xlabel='class', ylabel='Length'>"
      ]
     },
     "execution_count": 20,
     "metadata": {},
     "output_type": "execute_result"
    },
    {
     "data": {
      "image/png": "[encoded data removed]",
      "text/plain": [
       "<Figure size 432x288 with 1 Axes>"
      ]
     },
     "metadata": {
      "needs_background": "light"
     },
     "output_type": "display_data"
    }
   ],
   "source": [
    "sns.barplot(x='class', y='Length', data=df)"
   ]
  },
  {
   "cell_type": "markdown",
   "id": "10c653c1-bd85-49dd-b0ea-43b9124b376c",
   "metadata": {},
   "source": [
    "### Histogram - distribution of length of messages by class"
   ]
  },
  {
   "cell_type": "code",
   "execution_count": 21,
   "id": "d0a828fe-837e-49ef-9052-45f23d3b07be",
   "metadata": {},
   "outputs": [
    {
     "data": {
      "text/plain": [
       "array([<AxesSubplot:title={'center':'ham'}>,\n",
       "       <AxesSubplot:title={'center':'spam'}>], dtype=object)"
      ]
     },
     "execution_count": 21,
     "metadata": {},
     "output_type": "execute_result"
    },
    {
     "data": {
      "image/png": "[encoded data removed]",
      "text/plain": [
       "<Figure size 432x288 with 2 Axes>"
      ]
     },
     "metadata": {
      "needs_background": "light"
     },
     "output_type": "display_data"
    }
   ],
   "source": [
    "df.hist(column='Length',by='class', bins=50)"
   ]
  },
  {
   "cell_type": "markdown",
   "id": "d1389968-60f5-4c8f-92be-431fb492456c",
   "metadata": {},
   "source": [
    "# Section II Data Preprocessing"
   ]
  },
  {
   "cell_type": "code",
   "execution_count": 22,
   "id": "9cd167e5-6463-45a4-802b-0ee168ad70d8",
   "metadata": {},
   "outputs": [],
   "source": [
    "corpus = []\n",
    "ps = PorterStemmer()"
   ]
  },
  {
   "cell_type": "markdown",
   "id": "a219fe10-7b53-4218-aff9-36e7a7cd997a",
   "metadata": {},
   "source": [
    "## Normalization; Tokenization; Removing stop words; Stemming"
   ]
  },
  {
   "cell_type": "code",
   "execution_count": 23,
   "id": "a507585a-78fd-4ab9-ab74-ad2a8d3c45aa",
   "metadata": {},
   "outputs": [
    {
     "name": "stdout",
     "output_type": "stream",
     "text": [
      "\t\t\t\t MESSAGE  0\n",
      "\n",
      " After Application of Regular Expression - Message  0  becomes :-\n",
      "  Go until jurong point  crazy   Available only in bugis n great world la e buffet    Cine there got amore wat   \n",
      "\n",
      " After Lower Case Conversion - Message  0  becomes :-\n",
      "  go until jurong point  crazy   available only in bugis n great world la e buffet    cine there got amore wat   \n",
      "\n",
      " After Splitting - Message  0  becomes :  ['go', 'until', 'jurong', 'point', 'crazy', 'available', 'only', 'in', 'bugis', 'n', 'great', 'world', 'la', 'e', 'buffet', 'cine', 'there', 'got', 'amore', 'wat']\n",
      "\n",
      " After Stemming - Message  0 becomes :-\n",
      "  ['go', 'jurong', 'point', 'crazi', 'avail', 'bugi', 'n', 'great', 'world', 'la', 'e', 'buffet', 'cine', 'got', 'amor', 'wat']\n",
      "\n",
      " Final Prepared - Message  0  becomes :-\n",
      "  go jurong point crazi avail bugi n great world la e buffet cine got amor wat \n",
      "\n",
      "\n",
      "\t\t\t\t MESSAGE  1\n",
      "\n",
      " After Application of Regular Expression - Message  1  becomes :-\n",
      "  Ok lar    Joking wif u oni   \n",
      "\n",
      " After Lower Case Conversion - Message  1  becomes :-\n",
      "  ok lar    joking wif u oni   \n",
      "\n",
      " After Splitting - Message  1  becomes :  ['ok', 'lar', 'joking', 'wif', 'u', 'oni']\n",
      "\n",
      " After Stemming - Message  1 becomes :-\n",
      "  ['ok', 'lar', 'joke', 'wif', 'u', 'oni']\n",
      "\n",
      " Final Prepared - Message  1  becomes :-\n",
      "  ok lar joke wif u oni \n",
      "\n",
      "\n"
     ]
    }
   ],
   "source": [
    "# Processing the sms messages.\n",
    "for i in range(0, 5572):\n",
    "    \n",
    "    # Applying Regular Expression\n",
    "    '''\n",
    "    Replace email addresses with 'emailaddr'\n",
    "    Replace URLs with 'httpaddr'\n",
    "    Replace money symbols with 'moneysymb'\n",
    "    Replace phone numbers with 'phonenumbr'\n",
    "    Replace numbers with 'numbr'\n",
    "    '''\n",
    "    msg = df['sms'][i]\n",
    "    msg = re.sub('\\b[\\w\\-.]+?@\\w+?\\.\\w{2,4}\\b', 'emailaddr', df['sms'][i])\n",
    "    msg = re.sub('(http[s]?\\S+)|(\\w+\\.[A-Za-z]{2,4}\\S*)', 'httpaddr', df['sms'][i])\n",
    "    msg = re.sub('£|\\$', 'moneysymb', df['sms'][i])\n",
    "    msg = re.sub('\\b(\\+\\d{1,2}\\s)?\\d?[\\-(.]?\\d{3}\\)?[\\s.-]?\\d{3}[\\s.-]?\\d{4}\\b', 'phonenumbr', df['sms'][i])\n",
    "    msg = re.sub('\\d+(\\.\\d+)?', 'numbr', df['sms'][i])\n",
    "    \n",
    "    ''' Remove all punctuations '''\n",
    "    msg = re.sub('[^\\w\\d\\s]', ' ', df['sms'][i])\n",
    "    \n",
    "    if i<2:\n",
    "        print(\"\\t\\t\\t\\t MESSAGE \", i)\n",
    "    \n",
    "    if i<2:\n",
    "        print(\"\\n After Application of Regular Expression - Message \", i, \" becomes :-\\n \", msg)\n",
    "    \n",
    "    # Converting each word to lower case\n",
    "    msg = msg.lower()    \n",
    "    if i<2:\n",
    "        print(\"\\n After Lower Case Conversion - Message \", i, \" becomes :-\\n \", msg)\n",
    "        \n",
    "    # Splitting words to tokenize\n",
    "    msg = msg.split()    \n",
    "    if i<2:\n",
    "        print(\"\\n After Splitting - Message \", i, \" becomes : \", msg)\n",
    "    \n",
    "    # Stemming with porterstemmer handling stop words\n",
    "    msg = [ps.stem(word) for word in msg if not word in set(stopwords.words('english'))]\n",
    "    if i<2:\n",
    "        print(\"\\n After Stemming - Message \", i, \"becomes :-\\n \", msg)\n",
    "    \n",
    "    # Preparing messages with remaining tokens\n",
    "    msg = ' '.join(msg)\n",
    "    if i<2:\n",
    "        print(\"\\n Final Prepared - Message \", i, \" becomes :-\\n \", msg, \"\\n\\n\")\n",
    "    \n",
    "    # Preparing wordvector corpus\n",
    "    corpus.append(msg)   "
   ]
  },
  {
   "cell_type": "markdown",
   "id": "429971e8-5ea1-4b81-81ac-6b6d381d2cf8",
   "metadata": {},
   "source": [
    "## Vectorization"
   ]
  },
  {
   "cell_type": "code",
   "execution_count": 24,
   "id": "9e02dba1-780f-4b2a-9408-4db667b63463",
   "metadata": {},
   "outputs": [],
   "source": [
    "cv = CountVectorizer()\n",
    "x = cv.fit_transform(corpus).toarray()"
   ]
  },
  {
   "cell_type": "markdown",
   "id": "b58e75ec-35c7-4129-b1cc-8e085653384b",
   "metadata": {},
   "source": [
    "# Section III Classification"
   ]
  },
  {
   "cell_type": "code",
   "execution_count": 25,
   "id": "86b3a1db-2ca2-4733-9b08-c118e6cbc538",
   "metadata": {},
   "outputs": [
    {
     "name": "stdout",
     "output_type": "stream",
     "text": [
      "ham     4825\n",
      "spam     747\n",
      "Name: class, dtype: int64\n",
      "ham\n",
      "ham\n"
     ]
    }
   ],
   "source": [
    "y = df['class']\n",
    "print (y.value_counts())\n",
    "print(y[0])\n",
    "print(y[1])"
   ]
  },
  {
   "cell_type": "markdown",
   "id": "2ab9d775-3306-4797-8991-8d8505cf82dc",
   "metadata": {},
   "source": [
    "## Encoding class labels"
   ]
  },
  {
   "cell_type": "code",
   "execution_count": 26,
   "id": "41fcfebc-31be-4a9b-ada7-7672cacd11f3",
   "metadata": {},
   "outputs": [
    {
     "name": "stdout",
     "output_type": "stream",
     "text": [
      "0\n",
      "0\n"
     ]
    }
   ],
   "source": [
    "le = LabelEncoder()\n",
    "y = le.fit_transform(y)\n",
    "print(y[0])\n",
    "print(y[1])"
   ]
  },
  {
   "cell_type": "markdown",
   "id": "bf3418a5-0650-47a3-a40b-6f9fcffe294d",
   "metadata": {},
   "source": [
    "## Splitting the dataset in training and testing sets."
   ]
  },
  {
   "cell_type": "code",
   "execution_count": 27,
   "id": "083c5bda-1c21-488c-bbcc-c9f22fe6384a",
   "metadata": {},
   "outputs": [],
   "source": [
    "X_train, X_test, y_train, y_test = train_test_split(x, y, test_size=0.20, random_state=0)"
   ]
  },
  {
   "cell_type": "markdown",
   "id": "2e89e881-64ed-4230-a540-ef0063297839",
   "metadata": {},
   "source": [
    "## Applying Guassian Naive Bayes"
   ]
  },
  {
   "cell_type": "code",
   "execution_count": 28,
   "id": "17fd0824-d0ff-4ca1-9ac8-48cf2ba01b80",
   "metadata": {},
   "outputs": [
    {
     "data": {
      "text/plain": [
       "GaussianNB()"
      ]
     },
     "execution_count": 28,
     "metadata": {},
     "output_type": "execute_result"
    }
   ],
   "source": [
    "bayes_classifier = GaussianNB()\n",
    "bayes_classifier.fit(X_train, y_train)"
   ]
  },
  {
   "cell_type": "markdown",
   "id": "bcdae474-40f3-4206-b92f-a9dde6c51d82",
   "metadata": {},
   "source": [
    "## Making Predictions"
   ]
  },
  {
   "cell_type": "code",
   "execution_count": 29,
   "id": "c4953e90-6cdd-47af-b671-29f399cacacb",
   "metadata": {},
   "outputs": [],
   "source": [
    "y_pred = bayes_classifier.predict(X_test)"
   ]
  },
  {
   "cell_type": "markdown",
   "id": "ce30ef71-7fee-40b9-85eb-20678de0bc23",
   "metadata": {},
   "source": [
    "## Confusion matrix"
   ]
  },
  {
   "cell_type": "code",
   "execution_count": 30,
   "id": "9bca59b0-b1c0-4162-a7c9-37e52d6a9553",
   "metadata": {},
   "outputs": [
    {
     "data": {
      "text/plain": [
       "array([[824, 125],\n",
       "       [ 19, 147]], dtype=int64)"
      ]
     },
     "execution_count": 30,
     "metadata": {},
     "output_type": "execute_result"
    }
   ],
   "source": [
    "cm = confusion_matrix(y_test, y_pred)\n",
    "cm"
   ]
  },
  {
   "cell_type": "markdown",
   "id": "83bbc91d-2d0b-430c-ba1f-fed15e99a068",
   "metadata": {},
   "source": [
    "### Heatmap for the Confusion Matrix"
   ]
  },
  {
   "cell_type": "code",
   "execution_count": 31,
   "id": "8c1f1961-5a7e-4652-8227-1078a8f1a341",
   "metadata": {},
   "outputs": [
    {
     "data": {
      "text/plain": [
       "<AxesSubplot:>"
      ]
     },
     "execution_count": 31,
     "metadata": {},
     "output_type": "execute_result"
    },
    {
     "data": {
      "image/png": "[encoded data removed]",
      "text/plain": [
       "<Figure size 432x288 with 2 Axes>"
      ]
     },
     "metadata": {
      "needs_background": "light"
     },
     "output_type": "display_data"
    }
   ],
   "source": [
    "sns.heatmap(cm/np.sum(cm), annot=True, fmt='.2%', cmap='Blues')"
   ]
  },
  {
   "cell_type": "markdown",
   "id": "e1c93f11-bcf2-43d2-b6e0-84187aa408b1",
   "metadata": {},
   "source": [
    "## Classification report"
   ]
  },
  {
   "cell_type": "code",
   "execution_count": 32,
   "id": "9416016a-09d0-4f20-b76c-9b202bc54c36",
   "metadata": {},
   "outputs": [
    {
     "name": "stdout",
     "output_type": "stream",
     "text": [
      "              precision    recall  f1-score   support\n",
      "\n",
      "           0       0.98      0.87      0.92       949\n",
      "           1       0.54      0.89      0.67       166\n",
      "\n",
      "    accuracy                           0.87      1115\n",
      "   macro avg       0.76      0.88      0.80      1115\n",
      "weighted avg       0.91      0.87      0.88      1115\n",
      "\n"
     ]
    }
   ],
   "source": [
    "print (classification_report(y_test, bayes_classifier.predict(X_test)))"
   ]
  },
  {
   "cell_type": "markdown",
   "id": "908099e6-11d9-4a3b-8333-e1a2bdcdb27b",
   "metadata": {},
   "source": [
    "## Accuracy of the model"
   ]
  },
  {
   "cell_type": "code",
   "execution_count": 33,
   "id": "50a686f7-b640-4ef7-8d43-f3d94c714aee",
   "metadata": {},
   "outputs": [
    {
     "name": "stdout",
     "output_type": "stream",
     "text": [
      "Accuracy : 0.87085 \n",
      "\n",
      "\n"
     ]
    }
   ],
   "source": [
    "print (\"Accuracy : %0.5f \\n\\n\" % accuracy_score(y_test, bayes_classifier.predict(X_test)))"
   ]
  },
  {
   "cell_type": "markdown",
   "id": "4d6c9e3d-5ca6-409d-97f1-219a1187d317",
   "metadata": {},
   "source": [
    "## F-Measure"
   ]
  },
  {
   "cell_type": "code",
   "execution_count": 34,
   "id": "c50e3536-cc30-4bcd-a8e6-7ad9c6e3c5f7",
   "metadata": {},
   "outputs": [
    {
     "name": "stdout",
     "output_type": "stream",
     "text": [
      "F-Measure: 0.671\n"
     ]
    }
   ],
   "source": [
    "actual = y_test.tolist()\n",
    "predicted = y_pred\n",
    "f_measure = f1_score(actual, predicted, average = 'binary', sample_weight=None, zero_division='warn')\n",
    "print('F-Measure: %.3f' % f_measure)"
   ]
  },
  {
   "cell_type": "markdown",
   "id": "92b54c44-5034-45bc-988a-6d833fe4facd",
   "metadata": {},
   "source": [
    "## Applying Decision Tree Algorithm"
   ]
  },
  {
   "cell_type": "code",
   "execution_count": 35,
   "id": "97c873ff-8c5a-428d-95e7-09c782a86856",
   "metadata": {},
   "outputs": [
    {
     "data": {
      "text/plain": [
       "DecisionTreeClassifier(random_state=50)"
      ]
     },
     "execution_count": 35,
     "metadata": {},
     "output_type": "execute_result"
    }
   ],
   "source": [
    "dt = DecisionTreeClassifier(random_state=50)\n",
    "dt.fit(X_train, y_train)"
   ]
  },
  {
   "cell_type": "markdown",
   "id": "24d09cc0-bbf9-4c7b-9813-d31ccd9766fe",
   "metadata": {},
   "source": [
    "## Making Predictions"
   ]
  },
  {
   "cell_type": "code",
   "execution_count": 36,
   "id": "b4b9714a-fad0-4ee9-93e2-572726c31b98",
   "metadata": {},
   "outputs": [],
   "source": [
    "y_pred_dt = dt.predict(X_test)"
   ]
  },
  {
   "cell_type": "markdown",
   "id": "ab2ed66b-1450-4b7a-82ee-868723bdcd89",
   "metadata": {},
   "source": [
    "## Confusion matrix"
   ]
  },
  {
   "cell_type": "code",
   "execution_count": 37,
   "id": "65ca2a3f-1c8f-4ae4-a0f8-bf209b6a7d19",
   "metadata": {},
   "outputs": [
    {
     "data": {
      "text/plain": [
       "array([[943,   6],\n",
       "       [ 29, 137]], dtype=int64)"
      ]
     },
     "execution_count": 37,
     "metadata": {},
     "output_type": "execute_result"
    }
   ],
   "source": [
    "cf_matrix = confusion_matrix(y_test, y_pred_dt)\n",
    "cf_matrix"
   ]
  },
  {
   "cell_type": "markdown",
   "id": "c31b06ba-2d38-4416-bd4e-db12191425fb",
   "metadata": {},
   "source": [
    "### Heatmap for the Confusion Matrix"
   ]
  },
  {
   "cell_type": "code",
   "execution_count": 38,
   "id": "6e210935-6209-4863-a5a0-73bba3b60a95",
   "metadata": {},
   "outputs": [
    {
     "data": {
      "text/plain": [
       "<AxesSubplot:>"
      ]
     },
     "execution_count": 38,
     "metadata": {},
     "output_type": "execute_result"
    },
    {
     "data": {
      "image/png": "[encoded data removed]",
      "text/plain": [
       "<Figure size 432x288 with 2 Axes>"
      ]
     },
     "metadata": {
      "needs_background": "light"
     },
     "output_type": "display_data"
    }
   ],
   "source": [
    "sns.heatmap(cf_matrix/np.sum(cf_matrix), annot=True, fmt='.2%', cmap='Blues')"
   ]
  },
  {
   "cell_type": "markdown",
   "id": "71f18944-3769-4aa6-b15b-c610c1104a4c",
   "metadata": {},
   "source": [
    "## Classification report"
   ]
  },
  {
   "cell_type": "code",
   "execution_count": 39,
   "id": "d089893f-70e4-4442-90e0-bca9ddb79b78",
   "metadata": {},
   "outputs": [
    {
     "name": "stdout",
     "output_type": "stream",
     "text": [
      "              precision    recall  f1-score   support\n",
      "\n",
      "           0       0.97      0.99      0.98       949\n",
      "           1       0.96      0.83      0.89       166\n",
      "\n",
      "    accuracy                           0.97      1115\n",
      "   macro avg       0.96      0.91      0.93      1115\n",
      "weighted avg       0.97      0.97      0.97      1115\n",
      "\n"
     ]
    }
   ],
   "source": [
    "print (classification_report(y_test, dt.predict(X_test)))"
   ]
  },
  {
   "cell_type": "markdown",
   "id": "ffc8cfd3-be07-4fd7-93d0-18662d013a1d",
   "metadata": {},
   "source": [
    "## Accuracy of the Model"
   ]
  },
  {
   "cell_type": "code",
   "execution_count": 40,
   "id": "a2f1e745-13b2-409b-b0cf-110f0c331bc1",
   "metadata": {},
   "outputs": [
    {
     "name": "stdout",
     "output_type": "stream",
     "text": [
      "Accuracy : 0.96861 \n",
      "\n",
      "\n"
     ]
    }
   ],
   "source": [
    "print (\"Accuracy : %0.5f \\n\\n\" % accuracy_score(y_test, dt.predict(X_test)))"
   ]
  },
  {
   "cell_type": "markdown",
   "id": "965d4a1c-b916-478c-a15b-f13a8bdd5608",
   "metadata": {},
   "source": [
    "## F-Measure"
   ]
  },
  {
   "cell_type": "code",
   "execution_count": 41,
   "id": "13b26a86-4ebf-4a36-b4a1-97e428e045d7",
   "metadata": {},
   "outputs": [
    {
     "name": "stdout",
     "output_type": "stream",
     "text": [
      "F-Measure: 0.887\n"
     ]
    }
   ],
   "source": [
    "actual = y_test.tolist()\n",
    "predicted = y_pred_dt\n",
    "f_measure = f1_score(actual, predicted, average = 'binary', sample_weight=None, zero_division='warn')\n",
    "print('F-Measure: %.3f' % f_measure)"
   ]
  },
  {
   "cell_type": "markdown",
   "id": "9e37f8f9-8833-4df9-a80b-7c9ccecfe967",
   "metadata": {},
   "source": [
    "# Undersampling"
   ]
  },
  {
   "cell_type": "code",
   "execution_count": 42,
   "id": "8c4eacfd-3d44-468e-8dce-4079abe26d76",
   "metadata": {},
   "outputs": [
    {
     "name": "stdout",
     "output_type": "stream",
     "text": [
      "original dataset shape: (5572,)\n",
      "Resample dataset shape (1494,)\n"
     ]
    }
   ],
   "source": [
    "rus = RandomUnderSampler(random_state=42, replacement=True)# fit predictor and target variable\n",
    "x_rus, y_rus = rus.fit_resample(x, y)\n",
    "print('original dataset shape:', y.shape)\n",
    "print('Resample dataset shape', y_rus.shape)"
   ]
  },
  {
   "cell_type": "markdown",
   "id": "b17e4314-5777-4640-a787-f979e0d23ab6",
   "metadata": {},
   "source": [
    "## Splitting the dataset in training and testing sets"
   ]
  },
  {
   "cell_type": "code",
   "execution_count": 43,
   "id": "eb44bd69-cce3-4364-9f4a-3d3edbcc7eba",
   "metadata": {},
   "outputs": [],
   "source": [
    "X_train, X_test, y_train, y_test = train_test_split(x_rus, y_rus, test_size=0.20, random_state=0)"
   ]
  },
  {
   "cell_type": "markdown",
   "id": "56d60a5f-9a30-41c6-9a8c-195194c0c0ee",
   "metadata": {},
   "source": [
    "## Applying Guassian Naive Bayes"
   ]
  },
  {
   "cell_type": "code",
   "execution_count": 44,
   "id": "4b6871c5-12c0-441f-a658-f7a9363db803",
   "metadata": {},
   "outputs": [
    {
     "data": {
      "text/plain": [
       "GaussianNB()"
      ]
     },
     "execution_count": 44,
     "metadata": {},
     "output_type": "execute_result"
    }
   ],
   "source": [
    "bayes_classifier = GaussianNB()\n",
    "bayes_classifier.fit(X_train, y_train)"
   ]
  },
  {
   "cell_type": "markdown",
   "id": "65eee88f-3b2e-40d7-8631-09a3593a0053",
   "metadata": {},
   "source": [
    "## Making Predictions"
   ]
  },
  {
   "cell_type": "code",
   "execution_count": 45,
   "id": "a11425c7-e66f-4585-9bf7-a15907f33d4b",
   "metadata": {},
   "outputs": [],
   "source": [
    "y_pred = bayes_classifier.predict(X_test)"
   ]
  },
  {
   "cell_type": "markdown",
   "id": "d1d7d028-7955-429d-9b24-46175693faf4",
   "metadata": {},
   "source": [
    "## Confusion matrix"
   ]
  },
  {
   "cell_type": "code",
   "execution_count": 46,
   "id": "92756373-4c8b-46cc-9f58-e827e5e04b4b",
   "metadata": {},
   "outputs": [
    {
     "data": {
      "text/plain": [
       "array([[143,   8],\n",
       "       [  8, 140]], dtype=int64)"
      ]
     },
     "execution_count": 46,
     "metadata": {},
     "output_type": "execute_result"
    }
   ],
   "source": [
    "cm = confusion_matrix(y_test, y_pred)\n",
    "cm"
   ]
  },
  {
   "cell_type": "markdown",
   "id": "ebe9cf10-2610-4904-a4e1-c8d30f334fd7",
   "metadata": {},
   "source": [
    "### Heatmap for the Confusion Matrix"
   ]
  },
  {
   "cell_type": "code",
   "execution_count": 47,
   "id": "3065d7d2-18f2-415b-86f6-d25bf204721f",
   "metadata": {},
   "outputs": [
    {
     "data": {
      "text/plain": [
       "<AxesSubplot:>"
      ]
     },
     "execution_count": 47,
     "metadata": {},
     "output_type": "execute_result"
    },
    {
     "data": {
      "image/png": "[encoded data removed]",
      "text/plain": [
       "<Figure size 432x288 with 2 Axes>"
      ]
     },
     "metadata": {
      "needs_background": "light"
     },
     "output_type": "display_data"
    }
   ],
   "source": [
    "sns.heatmap(cm/np.sum(cm), annot=True, fmt='.2%', cmap='Blues')"
   ]
  },
  {
   "cell_type": "markdown",
   "id": "a7c3cd34-668c-4925-93dc-ca96d7c76433",
   "metadata": {},
   "source": [
    "## Classification report"
   ]
  },
  {
   "cell_type": "code",
   "execution_count": 48,
   "id": "80fb19a7-4044-43d1-98dc-beffaad80dba",
   "metadata": {},
   "outputs": [
    {
     "name": "stdout",
     "output_type": "stream",
     "text": [
      "              precision    recall  f1-score   support\n",
      "\n",
      "           0       0.95      0.95      0.95       151\n",
      "           1       0.95      0.95      0.95       148\n",
      "\n",
      "    accuracy                           0.95       299\n",
      "   macro avg       0.95      0.95      0.95       299\n",
      "weighted avg       0.95      0.95      0.95       299\n",
      "\n"
     ]
    }
   ],
   "source": [
    "print (classification_report(y_test, bayes_classifier.predict(X_test)))"
   ]
  },
  {
   "cell_type": "markdown",
   "id": "c99d5313-3b14-4a8e-b45a-7f4c75d28ac8",
   "metadata": {},
   "source": [
    "## Accuracy of the model"
   ]
  },
  {
   "cell_type": "code",
   "execution_count": 49,
   "id": "b4baa189-b677-4a54-a5c9-81cc62c7979c",
   "metadata": {},
   "outputs": [
    {
     "name": "stdout",
     "output_type": "stream",
     "text": [
      "Accuracy : 0.94649 \n",
      "\n",
      "\n"
     ]
    }
   ],
   "source": [
    "print (\"Accuracy : %0.5f \\n\\n\" % accuracy_score(y_test, bayes_classifier.predict(X_test)))"
   ]
  },
  {
   "cell_type": "markdown",
   "id": "4b4d9e81-3584-4334-8f2d-69966b910747",
   "metadata": {},
   "source": [
    "## F-Measure"
   ]
  },
  {
   "cell_type": "code",
   "execution_count": 50,
   "id": "e758e676-a279-4c8d-b343-dfd7e4e717c7",
   "metadata": {},
   "outputs": [
    {
     "name": "stdout",
     "output_type": "stream",
     "text": [
      "F-Measure: 0.946\n"
     ]
    }
   ],
   "source": [
    "actual = y_test.tolist()\n",
    "predicted = y_pred\n",
    "f_measure = f1_score(actual, predicted, average = 'binary', sample_weight=None, zero_division='warn')\n",
    "print('F-Measure: %.3f' % f_measure)"
   ]
  },
  {
   "cell_type": "markdown",
   "id": "e52485da-7ddf-40b5-94fb-78689265a153",
   "metadata": {},
   "source": [
    "## Applying Decision Tree Algorithm"
   ]
  },
  {
   "cell_type": "code",
   "execution_count": 51,
   "id": "61ef204d-b90f-4416-a0dd-d6063a77ba29",
   "metadata": {},
   "outputs": [
    {
     "data": {
      "text/plain": [
       "DecisionTreeClassifier(random_state=50)"
      ]
     },
     "execution_count": 51,
     "metadata": {},
     "output_type": "execute_result"
    }
   ],
   "source": [
    "dt = DecisionTreeClassifier(random_state=50)\n",
    "dt.fit(X_train, y_train)"
   ]
  },
  {
   "cell_type": "markdown",
   "id": "1fd2dcf2-d5a9-471a-8a01-b508c93ba4e4",
   "metadata": {},
   "source": [
    "## Making Predictions"
   ]
  },
  {
   "cell_type": "code",
   "execution_count": 52,
   "id": "cd541af3-7ddf-4d52-9d75-2cb1d6ba879b",
   "metadata": {},
   "outputs": [],
   "source": [
    "y_pred_dt = dt.predict(X_test)"
   ]
  },
  {
   "cell_type": "markdown",
   "id": "5cdc669d-e585-4ca6-8d19-878790638497",
   "metadata": {},
   "source": [
    "## Confusion matrix"
   ]
  },
  {
   "cell_type": "code",
   "execution_count": 53,
   "id": "ebb1772f-0bbd-480e-8ef0-dff93d29a064",
   "metadata": {},
   "outputs": [
    {
     "data": {
      "text/plain": [
       "array([[145,   6],\n",
       "       [ 18, 130]], dtype=int64)"
      ]
     },
     "execution_count": 53,
     "metadata": {},
     "output_type": "execute_result"
    }
   ],
   "source": [
    "cf_matrix = confusion_matrix(y_test, y_pred_dt)\n",
    "cf_matrix"
   ]
  },
  {
   "cell_type": "markdown",
   "id": "44908f76-5cf0-47ea-b66a-d0fc2c77a625",
   "metadata": {},
   "source": [
    "## Heatmap for the Confusion Matrix"
   ]
  },
  {
   "cell_type": "code",
   "execution_count": 54,
   "id": "509d246e-5267-442c-9bec-769c5fc4359a",
   "metadata": {},
   "outputs": [
    {
     "data": {
      "text/plain": [
       "<AxesSubplot:>"
      ]
     },
     "execution_count": 54,
     "metadata": {},
     "output_type": "execute_result"
    },
    {
     "data": {
      "image/png": "[encoded data removed]",
      "text/plain": [
       "<Figure size 432x288 with 2 Axes>"
      ]
     },
     "metadata": {
      "needs_background": "light"
     },
     "output_type": "display_data"
    }
   ],
   "source": [
    "sns.heatmap(cf_matrix/np.sum(cf_matrix), annot=True, fmt='.2%', cmap='Blues')"
   ]
  },
  {
   "cell_type": "markdown",
   "id": "21c669e4-553c-4c53-8eb4-5bcfc87675ef",
   "metadata": {},
   "source": [
    "## Classification report"
   ]
  },
  {
   "cell_type": "code",
   "execution_count": 55,
   "id": "7603d6dc-055d-48f3-a907-b69d6ddf3b5e",
   "metadata": {},
   "outputs": [
    {
     "name": "stdout",
     "output_type": "stream",
     "text": [
      "              precision    recall  f1-score   support\n",
      "\n",
      "           0       0.89      0.96      0.92       151\n",
      "           1       0.96      0.88      0.92       148\n",
      "\n",
      "    accuracy                           0.92       299\n",
      "   macro avg       0.92      0.92      0.92       299\n",
      "weighted avg       0.92      0.92      0.92       299\n",
      "\n"
     ]
    }
   ],
   "source": [
    "print (classification_report(y_test, dt.predict(X_test)))"
   ]
  },
  {
   "cell_type": "markdown",
   "id": "b867c139-88f0-47f3-9b79-2a664f8c3269",
   "metadata": {},
   "source": [
    "## Accuracy of the model"
   ]
  },
  {
   "cell_type": "code",
   "execution_count": 56,
   "id": "cc7014f2-6eaf-48a5-bff9-208193b1c7bc",
   "metadata": {},
   "outputs": [
    {
     "name": "stdout",
     "output_type": "stream",
     "text": [
      "Accuracy : 0.91973 \n",
      "\n",
      "\n"
     ]
    }
   ],
   "source": [
    "print (\"Accuracy : %0.5f \\n\\n\" % accuracy_score(y_test, dt.predict(X_test)))"
   ]
  },
  {
   "cell_type": "markdown",
   "id": "03c77f76-d232-471a-bf2e-0cbdece850dc",
   "metadata": {},
   "source": [
    "## F-Measure"
   ]
  },
  {
   "cell_type": "code",
   "execution_count": 57,
   "id": "ad50a42b-ccd6-4ee5-a3cb-3d32e4ad4c8f",
   "metadata": {},
   "outputs": [
    {
     "name": "stdout",
     "output_type": "stream",
     "text": [
      "F-Measure: 0.915\n"
     ]
    }
   ],
   "source": [
    "actual = y_test.tolist()\n",
    "predicted = y_pred_dt\n",
    "f_measure = f1_score(actual, predicted, average = 'binary', sample_weight=None, zero_division='warn')\n",
    "print('F-Measure: %.3f' % f_measure)"
   ]
  },
  {
   "cell_type": "markdown",
   "id": "8801e92e-310f-4546-8df5-782fc60c2a68",
   "metadata": {},
   "source": [
    "# Oversampling"
   ]
  },
  {
   "cell_type": "code",
   "execution_count": 58,
   "id": "2ebf97e3-ba4c-4175-ac29-1e0f471a052e",
   "metadata": {},
   "outputs": [
    {
     "name": "stdout",
     "output_type": "stream",
     "text": [
      "original dataset shape: (5572,)\n",
      "Resample dataset shape (9650,)\n"
     ]
    }
   ],
   "source": [
    "rus = RandomOverSampler(random_state=42)# fit predictor and target variable\n",
    "x_rus, y_rus = rus.fit_resample(x, y)\n",
    "print('original dataset shape:', y.shape)\n",
    "print('Resample dataset shape', y_rus.shape)"
   ]
  },
  {
   "cell_type": "markdown",
   "id": "ee419d20-ef3c-45dd-b7c6-71085c29d42b",
   "metadata": {},
   "source": [
    "## Splitting the dataset in training and testing sets"
   ]
  },
  {
   "cell_type": "code",
   "execution_count": 59,
   "id": "92c0d9ad-fa33-4d81-b060-18391957c8c1",
   "metadata": {},
   "outputs": [],
   "source": [
    "X_train, X_test, y_train, y_test = train_test_split(x_rus, y_rus, test_size=0.20, random_state=0)"
   ]
  },
  {
   "cell_type": "markdown",
   "id": "9161f0c5-fe09-40ed-9afa-ba078573a8b3",
   "metadata": {},
   "source": [
    "## Applying Guassian Naive Bayes"
   ]
  },
  {
   "cell_type": "code",
   "execution_count": 60,
   "id": "edf864de-4dea-4d58-bb61-d45956c4dba0",
   "metadata": {},
   "outputs": [
    {
     "data": {
      "text/plain": [
       "GaussianNB()"
      ]
     },
     "execution_count": 60,
     "metadata": {},
     "output_type": "execute_result"
    }
   ],
   "source": [
    "bayes_classifier = GaussianNB()\n",
    "bayes_classifier.fit(X_train, y_train)"
   ]
  },
  {
   "cell_type": "markdown",
   "id": "175fb9a8-0248-4ea7-ae74-d011ce885e8a",
   "metadata": {},
   "source": [
    "## Making Predictions"
   ]
  },
  {
   "cell_type": "code",
   "execution_count": 61,
   "id": "4d575c64-31c7-487a-929b-cf81adcc7ebf",
   "metadata": {},
   "outputs": [],
   "source": [
    "y_pred = bayes_classifier.predict(X_test)"
   ]
  },
  {
   "cell_type": "markdown",
   "id": "86f61ad4-ef65-4cd8-87fe-70e2c10c4b84",
   "metadata": {},
   "source": [
    "## Confusion matrix"
   ]
  },
  {
   "cell_type": "code",
   "execution_count": 62,
   "id": "73f1e8b5-a692-4fea-aae1-b7e09624f227",
   "metadata": {},
   "outputs": [
    {
     "data": {
      "text/plain": [
       "array([[789, 147],\n",
       "       [  0, 994]], dtype=int64)"
      ]
     },
     "execution_count": 62,
     "metadata": {},
     "output_type": "execute_result"
    }
   ],
   "source": [
    "cm = confusion_matrix(y_test, y_pred)\n",
    "cm"
   ]
  },
  {
   "cell_type": "markdown",
   "id": "7f51a38d-1b64-40e7-81f9-ab13a7bc4f05",
   "metadata": {},
   "source": [
    "### Heatmap for the Confusion Matrix"
   ]
  },
  {
   "cell_type": "code",
   "execution_count": 63,
   "id": "1ffac032-ad52-49bb-98a8-f9fa78c4d0d8",
   "metadata": {},
   "outputs": [
    {
     "data": {
      "text/plain": [
       "<AxesSubplot:>"
      ]
     },
     "execution_count": 63,
     "metadata": {},
     "output_type": "execute_result"
    },
    {
     "data": {
      "image/png": "[encoded data removed]",
      "text/plain": [
       "<Figure size 432x288 with 2 Axes>"
      ]
     },
     "metadata": {
      "needs_background": "light"
     },
     "output_type": "display_data"
    }
   ],
   "source": [
    "sns.heatmap(cm/np.sum(cm), annot=True, fmt='.2%', cmap='Blues')"
   ]
  },
  {
   "cell_type": "markdown",
   "id": "0e779c4b-d8ac-4ac9-b160-28a5b947caf7",
   "metadata": {},
   "source": [
    "## Classification report"
   ]
  },
  {
   "cell_type": "code",
   "execution_count": 64,
   "id": "f3c98f1e-575f-4d0c-95f5-3fd407cd0c55",
   "metadata": {},
   "outputs": [
    {
     "name": "stdout",
     "output_type": "stream",
     "text": [
      "              precision    recall  f1-score   support\n",
      "\n",
      "           0       1.00      0.84      0.91       936\n",
      "           1       0.87      1.00      0.93       994\n",
      "\n",
      "    accuracy                           0.92      1930\n",
      "   macro avg       0.94      0.92      0.92      1930\n",
      "weighted avg       0.93      0.92      0.92      1930\n",
      "\n"
     ]
    }
   ],
   "source": [
    "print (classification_report(y_test, bayes_classifier.predict(X_test)))"
   ]
  },
  {
   "cell_type": "markdown",
   "id": "6ec20bc7-a1c4-40ea-a5d1-0ed116e9606a",
   "metadata": {},
   "source": [
    "## Accuracy of the model"
   ]
  },
  {
   "cell_type": "code",
   "execution_count": 65,
   "id": "8c051942-c1ae-4550-b94d-b2a3ef3f1349",
   "metadata": {},
   "outputs": [
    {
     "name": "stdout",
     "output_type": "stream",
     "text": [
      "Accuracy : 0.92383 \n",
      "\n",
      "\n"
     ]
    }
   ],
   "source": [
    "print (\"Accuracy : %0.5f \\n\\n\" % accuracy_score(y_test, bayes_classifier.predict(X_test)))"
   ]
  },
  {
   "cell_type": "markdown",
   "id": "a77eb966-a798-4719-8b4d-c26836ffdbf7",
   "metadata": {},
   "source": [
    "## F-Measure"
   ]
  },
  {
   "cell_type": "code",
   "execution_count": 66,
   "id": "a2a003c4-bf7d-4ade-b3fd-afa7a623ac99",
   "metadata": {},
   "outputs": [
    {
     "name": "stdout",
     "output_type": "stream",
     "text": [
      "F-Measure: 0.931\n"
     ]
    }
   ],
   "source": [
    "actual = y_test.tolist()\n",
    "predicted = y_pred\n",
    "f_measure = f1_score(actual, predicted, average = 'binary', sample_weight=None, zero_division='warn')\n",
    "print('F-Measure: %.3f' % f_measure)"
   ]
  },
  {
   "cell_type": "markdown",
   "id": "078c61c7-0097-4911-8e26-6054e2779564",
   "metadata": {},
   "source": [
    "## Applying Decision Tree Algorithm"
   ]
  },
  {
   "cell_type": "code",
   "execution_count": 67,
   "id": "a4b1a874-fd7c-45fa-aaf1-4b42c183ece8",
   "metadata": {},
   "outputs": [
    {
     "data": {
      "text/plain": [
       "DecisionTreeClassifier(random_state=50)"
      ]
     },
     "execution_count": 67,
     "metadata": {},
     "output_type": "execute_result"
    }
   ],
   "source": [
    "dt = DecisionTreeClassifier(random_state=50)\n",
    "dt.fit(X_train, y_train)"
   ]
  },
  {
   "cell_type": "markdown",
   "id": "ad20c5a6-aa51-417e-a0e0-d493355020fb",
   "metadata": {},
   "source": [
    "## Making Predictions"
   ]
  },
  {
   "cell_type": "code",
   "execution_count": 68,
   "id": "652fd3e5-8076-4937-9b25-22c42bcc983f",
   "metadata": {},
   "outputs": [],
   "source": [
    "y_pred_dt = dt.predict(X_test)"
   ]
  },
  {
   "cell_type": "markdown",
   "id": "0a123783-3b9b-4e2f-8b01-88b0a7ece5d8",
   "metadata": {},
   "source": [
    "## Confusion matrix"
   ]
  },
  {
   "cell_type": "code",
   "execution_count": 69,
   "id": "dcdd95f7-1e97-4593-8cf9-68f5c5e06bb9",
   "metadata": {},
   "outputs": [
    {
     "data": {
      "text/plain": [
       "array([[915,  21],\n",
       "       [  0, 994]], dtype=int64)"
      ]
     },
     "execution_count": 69,
     "metadata": {},
     "output_type": "execute_result"
    }
   ],
   "source": [
    "cf_matrix = confusion_matrix(y_test, y_pred_dt)\n",
    "cf_matrix"
   ]
  },
  {
   "cell_type": "markdown",
   "id": "1911c98b-dedc-43ec-af3e-fcafc118ec73",
   "metadata": {},
   "source": [
    "## Heatmap for the Confusion Matrix"
   ]
  },
  {
   "cell_type": "code",
   "execution_count": 70,
   "id": "d9183769-f8ee-44cd-95e0-46957df7a591",
   "metadata": {},
   "outputs": [
    {
     "data": {
      "text/plain": [
       "<AxesSubplot:>"
      ]
     },
     "execution_count": 70,
     "metadata": {},
     "output_type": "execute_result"
    },
    {
     "data": {
      "image/png": "[encoded data removed]",
      "text/plain": [
       "<Figure size 432x288 with 2 Axes>"
      ]
     },
     "metadata": {
      "needs_background": "light"
     },
     "output_type": "display_data"
    }
   ],
   "source": [
    "sns.heatmap(cf_matrix/np.sum(cf_matrix), annot=True, fmt='.2%', cmap='Blues')"
   ]
  },
  {
   "cell_type": "markdown",
   "id": "a887e15c-bc20-4da4-b7bd-307e709e76ed",
   "metadata": {},
   "source": [
    "## Classification report"
   ]
  },
  {
   "cell_type": "code",
   "execution_count": 71,
   "id": "e82ed545-a577-4b2d-a279-2f4aa370c381",
   "metadata": {},
   "outputs": [
    {
     "name": "stdout",
     "output_type": "stream",
     "text": [
      "              precision    recall  f1-score   support\n",
      "\n",
      "           0       1.00      0.98      0.99       936\n",
      "           1       0.98      1.00      0.99       994\n",
      "\n",
      "    accuracy                           0.99      1930\n",
      "   macro avg       0.99      0.99      0.99      1930\n",
      "weighted avg       0.99      0.99      0.99      1930\n",
      "\n"
     ]
    }
   ],
   "source": [
    "print (classification_report(y_test, dt.predict(X_test)))"
   ]
  },
  {
   "cell_type": "markdown",
   "id": "144f7127-a6bc-460e-94fa-42a6af5ec0f3",
   "metadata": {},
   "source": [
    "## Accuracy of the model"
   ]
  },
  {
   "cell_type": "code",
   "execution_count": 72,
   "id": "21d3e1c9-4f78-465b-9212-78a876b2e359",
   "metadata": {},
   "outputs": [
    {
     "name": "stdout",
     "output_type": "stream",
     "text": [
      "Accuracy : 0.98912 \n",
      "\n",
      "\n"
     ]
    }
   ],
   "source": [
    "print (\"Accuracy : %0.5f \\n\\n\" % accuracy_score(y_test, dt.predict(X_test)))"
   ]
  },
  {
   "cell_type": "markdown",
   "id": "b7f5cd3a-b3ba-4b17-8505-e0d7f900858d",
   "metadata": {},
   "source": [
    "## F-Measure"
   ]
  },
  {
   "cell_type": "code",
   "execution_count": 73,
   "id": "7f52e00c-a9d4-4361-acfc-294dcf5cb5d0",
   "metadata": {},
   "outputs": [
    {
     "name": "stdout",
     "output_type": "stream",
     "text": [
      "F-Measure: 0.990\n"
     ]
    }
   ],
   "source": [
    "actual = y_test.tolist()\n",
    "predicted = y_pred_dt\n",
    "f_measure = f1_score(actual, predicted, average = 'binary', sample_weight=None, zero_division='warn')\n",
    "print('F-Measure: %.3f' % f_measure)"
   ]
  },
  {
   "cell_type": "markdown",
   "id": "14f68040-d805-4ec3-b6a1-4967fd7d74b9",
   "metadata": {},
   "source": [
    "##### Highest Accuracy - Decision Tree Algorithm with Oversampling"
   ]
  }
 ],
 "metadata": {
  "kernelspec": {
   "display_name": "Python 3",
   "language": "python",
   "name": "python3"
  },
  "language_info": {
   "codemirror_mode": {
    "name": "ipython",
    "version": 3
   },
   "file_extension": ".py",
   "mimetype": "text/x-python",
   "name": "python",
   "nbconvert_exporter": "python",
   "pygments_lexer": "ipython3",
   "version": "3.9.4"
  }
 },
 "nbformat": 4,
 "nbformat_minor": 5
}
